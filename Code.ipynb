{
 "cells": [
  {
   "cell_type": "code",
   "execution_count": null,
   "metadata": {
    "execution": {
     "iopub.status.busy": "2024-02-05T16:21:48.695441Z",
     "iopub.status.idle": "2024-02-05T16:21:48.695897Z"
    }
   },
   "outputs": [],
   "source": [
    "import tensorflow.keras as keras\n",
    "from collections import defaultdict\n",
    "import warnings\n",
    "from plot_keras_history import show_history, plot_history\n",
    "import matplotlib.pyplot as plt\n",
    "import os\n",
    "import random\n",
    "import shutil\n"
   ]
  },
  {
   "cell_type": "code",
   "execution_count": 19,
   "metadata": {
    "execution": {
     "iopub.execute_input": "2024-02-05T16:24:27.794805Z",
     "iopub.status.busy": "2024-02-05T16:24:27.794396Z",
     "iopub.status.idle": "2024-02-05T16:26:34.035587Z",
     "shell.execute_reply": "2024-02-05T16:26:34.034787Z",
     "shell.execute_reply.started": "2024-02-05T16:24:27.794768Z"
    }
   },
   "outputs": [
    {
     "name": "stdout",
     "output_type": "stream",
     "text": [
      "Found 124006 files belonging to 2 classes.\n"
     ]
    }
   ],
   "source": [
    "training = keras.preprocessing.image_dataset_from_directory(directory = '/kaggle/input/data-binary/data/train')"
   ]
  },
  {
   "cell_type": "code",
   "execution_count": 20,
   "metadata": {
    "execution": {
     "iopub.execute_input": "2024-02-05T16:26:34.037723Z",
     "iopub.status.busy": "2024-02-05T16:26:34.037419Z",
     "iopub.status.idle": "2024-02-05T16:32:19.592286Z",
     "shell.execute_reply": "2024-02-05T16:32:19.591401Z",
     "shell.execute_reply.started": "2024-02-05T16:26:34.037694Z"
    }
   },
   "outputs": [
    {
     "name": "stdout",
     "output_type": "stream",
     "text": [
      "Found 286495 files belonging to 2 classes.\n"
     ]
    }
   ],
   "source": [
    "validation = keras.preprocessing.image_dataset_from_directory(directory = '/kaggle/input/data-binary/data/valid')"
   ]
  },
  {
   "cell_type": "code",
   "execution_count": 21,
   "metadata": {
    "execution": {
     "iopub.execute_input": "2024-02-05T16:32:19.594811Z",
     "iopub.status.busy": "2024-02-05T16:32:19.594422Z",
     "iopub.status.idle": "2024-02-05T16:39:22.329448Z",
     "shell.execute_reply": "2024-02-05T16:39:22.328562Z",
     "shell.execute_reply.started": "2024-02-05T16:32:19.594770Z"
    }
   },
   "outputs": [
    {
     "name": "stdout",
     "output_type": "stream",
     "text": [
      "Found 358119 files belonging to 2 classes.\n"
     ]
    }
   ],
   "source": [
    "test = keras.preprocessing.image_dataset_from_directory(directory = '/kaggle/input/data-binary/data/test', shuffle=False)"
   ]
  },
  {
   "cell_type": "code",
   "execution_count": 22,
   "metadata": {
    "execution": {
     "iopub.execute_input": "2024-02-05T16:40:35.177503Z",
     "iopub.status.busy": "2024-02-05T16:40:35.177111Z",
     "iopub.status.idle": "2024-02-05T16:40:35.287276Z",
     "shell.execute_reply": "2024-02-05T16:40:35.286389Z",
     "shell.execute_reply.started": "2024-02-05T16:40:35.177466Z"
    }
   },
   "outputs": [],
   "source": [
    "from tensorflow.keras.models import Sequential, Model\n",
    "from tensorflow.keras.layers import Dense, Conv2D , MaxPool2D , Flatten , Dropout , BatchNormalization\n",
    "# from tensorflow.keras.preprocessing import Rescaling\n",
    "\n",
    "model = Sequential()\n",
    "# model.add(Rescaling(scale = 1/255, input_shape = ( 256, 256, 3)))\n",
    "model.add(Conv2D(32 , (3,3) , padding = 'same' , activation = 'relu' , input_shape = ( 256, 256, 3)))\n",
    "model.add(Dropout(0.25))\n",
    "\n",
    "model.add(MaxPool2D((2,2)))\n",
    "model.add(Conv2D(64 , (3,3), activation = 'relu'))\n",
    "model.add(Dropout(0.25))\n",
    "\n",
    "\n",
    "model.add(MaxPool2D((2,2)))\n",
    "model.add(Conv2D(64 , (3,3), activation = 'relu'))\n",
    "\n",
    "\n",
    "model.add(MaxPool2D((2,2) ))\n",
    "model.add(Conv2D(128 , (3,3), activation = 'relu'))\n",
    "\n",
    "\n",
    "\n",
    "model.add(MaxPool2D((2,2)))\n",
    "model.add(Conv2D(256 , (3,3), activation = 'relu'))\n",
    "\n",
    "\n",
    "\n",
    "model.add(MaxPool2D((2,2)))\n",
    "\n",
    "model.add(Flatten())\n",
    "\n",
    "model.add(Dense(units = 128 , activation = 'relu'))\n",
    "model.add(Dense(units = 1 , activation = 'sigmoid')) #clasificación binaria"
   ]
  },
  {
   "cell_type": "code",
   "execution_count": 25,
   "metadata": {
    "execution": {
     "iopub.execute_input": "2024-02-05T16:42:44.678314Z",
     "iopub.status.busy": "2024-02-05T16:42:44.677943Z",
     "iopub.status.idle": "2024-02-05T16:42:44.725068Z",
     "shell.execute_reply": "2024-02-05T16:42:44.724193Z",
     "shell.execute_reply.started": "2024-02-05T16:42:44.678284Z"
    }
   },
   "outputs": [],
   "source": [
    "from keras.callbacks import ModelCheckpoint\n",
    "checkpoint_callback = ModelCheckpoint(filepath='model_checkpoint.h5', \n",
    "                                      monitor='val_loss', \n",
    "                                      save_best_only=True)"
   ]
  },
  {
   "cell_type": "code",
   "execution_count": 23,
   "metadata": {
    "execution": {
     "iopub.execute_input": "2024-02-05T16:40:43.694343Z",
     "iopub.status.busy": "2024-02-05T16:40:43.693771Z",
     "iopub.status.idle": "2024-02-05T16:40:43.726213Z",
     "shell.execute_reply": "2024-02-05T16:40:43.725463Z",
     "shell.execute_reply.started": "2024-02-05T16:40:43.694301Z"
    }
   },
   "outputs": [],
   "source": [
    "loss = keras.losses.BinaryCrossentropy()\n",
    "model.compile(loss=loss, \n",
    "              optimizer = keras.optimizers.Adam(1e-3),\n",
    "              metrics=[keras.metrics.AUC(),keras.metrics.Precision(),\n",
    "                       keras.metrics.Recall()])"
   ]
  },
  {
   "cell_type": "code",
   "execution_count": 24,
   "metadata": {
    "execution": {
     "iopub.execute_input": "2024-02-05T16:41:02.826459Z",
     "iopub.status.busy": "2024-02-05T16:41:02.826103Z",
     "iopub.status.idle": "2024-02-05T16:41:02.837177Z",
     "shell.execute_reply": "2024-02-05T16:41:02.836346Z",
     "shell.execute_reply.started": "2024-02-05T16:41:02.826430Z"
    }
   },
   "outputs": [
    {
     "name": "stdout",
     "output_type": "stream",
     "text": [
      "Model: \"sequential\"\n",
      "_________________________________________________________________\n",
      "Layer (type)                 Output Shape              Param #   \n",
      "=================================================================\n",
      "conv2d (Conv2D)              (None, 256, 256, 32)      896       \n",
      "_________________________________________________________________\n",
      "dropout (Dropout)            (None, 256, 256, 32)      0         \n",
      "_________________________________________________________________\n",
      "max_pooling2d (MaxPooling2D) (None, 128, 128, 32)      0         \n",
      "_________________________________________________________________\n",
      "conv2d_1 (Conv2D)            (None, 126, 126, 64)      18496     \n",
      "_________________________________________________________________\n",
      "dropout_1 (Dropout)          (None, 126, 126, 64)      0         \n",
      "_________________________________________________________________\n",
      "max_pooling2d_1 (MaxPooling2 (None, 63, 63, 64)        0         \n",
      "_________________________________________________________________\n",
      "conv2d_2 (Conv2D)            (None, 61, 61, 64)        36928     \n",
      "_________________________________________________________________\n",
      "max_pooling2d_2 (MaxPooling2 (None, 30, 30, 64)        0         \n",
      "_________________________________________________________________\n",
      "conv2d_3 (Conv2D)            (None, 28, 28, 128)       73856     \n",
      "_________________________________________________________________\n",
      "max_pooling2d_3 (MaxPooling2 (None, 14, 14, 128)       0         \n",
      "_________________________________________________________________\n",
      "conv2d_4 (Conv2D)            (None, 12, 12, 256)       295168    \n",
      "_________________________________________________________________\n",
      "max_pooling2d_4 (MaxPooling2 (None, 6, 6, 256)         0         \n",
      "_________________________________________________________________\n",
      "flatten_1 (Flatten)          (None, 9216)              0         \n",
      "_________________________________________________________________\n",
      "dense_2 (Dense)              (None, 128)               1179776   \n",
      "_________________________________________________________________\n",
      "dense_3 (Dense)              (None, 1)                 129       \n",
      "=================================================================\n",
      "Total params: 1,605,249\n",
      "Trainable params: 1,605,249\n",
      "Non-trainable params: 0\n",
      "_________________________________________________________________\n"
     ]
    }
   ],
   "source": [
    "model.summary()"
   ]
  },
  {
   "cell_type": "code",
   "execution_count": 27,
   "metadata": {
    "execution": {
     "iopub.execute_input": "2024-02-05T16:45:40.386237Z",
     "iopub.status.busy": "2024-02-05T16:45:40.385739Z",
     "iopub.status.idle": "2024-02-05T20:38:04.409315Z",
     "shell.execute_reply": "2024-02-05T20:38:04.408380Z",
     "shell.execute_reply.started": "2024-02-05T16:45:40.386190Z"
    }
   },
   "outputs": [
    {
     "name": "stdout",
     "output_type": "stream",
     "text": [
      "Epoch 1/10\n",
      "3876/3876 [==============================] - 1519s 392ms/step - loss: 0.4795 - auc_2: 0.8259 - precision_2: 0.7091 - recall_2: 0.8822 - val_loss: 0.4230 - val_auc_2: 0.8602 - val_precision_2: 0.1400 - val_recall_2: 0.8616\n",
      "Epoch 2/10\n",
      "3876/3876 [==============================] - 1386s 358ms/step - loss: 0.4286 - auc_2: 0.8694 - precision_2: 0.7409 - recall_2: 0.8883 - val_loss: 0.3020 - val_auc_2: 0.8847 - val_precision_2: 0.1967 - val_recall_2: 0.7189\n",
      "Epoch 3/10\n",
      "3876/3876 [==============================] - 1357s 350ms/step - loss: 0.3713 - auc_2: 0.9070 - precision_2: 0.7870 - recall_2: 0.8858 - val_loss: 0.3336 - val_auc_2: 0.9078 - val_precision_2: 0.2047 - val_recall_2: 0.8293\n",
      "Epoch 4/10\n",
      "3876/3876 [==============================] - 1351s 348ms/step - loss: 0.3088 - auc_2: 0.9383 - precision_2: 0.8362 - recall_2: 0.8968 - val_loss: 0.3316 - val_auc_2: 0.9201 - val_precision_2: 0.2231 - val_recall_2: 0.8471\n",
      "Epoch 5/10\n",
      "3876/3876 [==============================] - 1398s 361ms/step - loss: 0.2541 - auc_2: 0.9594 - precision_2: 0.8757 - recall_2: 0.9069 - val_loss: 0.2770 - val_auc_2: 0.9460 - val_precision_2: 0.2854 - val_recall_2: 0.8705\n",
      "Epoch 6/10\n",
      "3876/3876 [==============================] - 1400s 361ms/step - loss: 0.2169 - auc_2: 0.9707 - precision_2: 0.8987 - recall_2: 0.9210 - val_loss: 0.3058 - val_auc_2: 0.9520 - val_precision_2: 0.2819 - val_recall_2: 0.9069\n",
      "Epoch 7/10\n",
      "3876/3876 [==============================] - 1380s 356ms/step - loss: 0.1863 - auc_2: 0.9784 - precision_2: 0.9172 - recall_2: 0.9302 - val_loss: 0.3019 - val_auc_2: 0.9567 - val_precision_2: 0.3055 - val_recall_2: 0.9121\n",
      "Epoch 8/10\n",
      "3876/3876 [==============================] - 1377s 355ms/step - loss: 0.1673 - auc_2: 0.9826 - precision_2: 0.9288 - recall_2: 0.9384 - val_loss: 0.3008 - val_auc_2: 0.9551 - val_precision_2: 0.3230 - val_recall_2: 0.8918\n",
      "Epoch 9/10\n",
      "3876/3876 [==============================] - 1380s 356ms/step - loss: 0.1464 - auc_2: 0.9866 - precision_2: 0.9400 - recall_2: 0.9458 - val_loss: 0.3209 - val_auc_2: 0.9574 - val_precision_2: 0.3239 - val_recall_2: 0.9078\n",
      "Epoch 10/10\n",
      "3876/3876 [==============================] - 1389s 358ms/step - loss: 0.1386 - auc_2: 0.9879 - precision_2: 0.9466 - recall_2: 0.9479 - val_loss: 0.3466 - val_auc_2: 0.9556 - val_precision_2: 0.3140 - val_recall_2: 0.9048\n"
     ]
    },
    {
     "data": {
      "text/plain": [
       "<tensorflow.python.keras.callbacks.History at 0x789fba81ee50>"
      ]
     },
     "execution_count": 27,
     "metadata": {},
     "output_type": "execute_result"
    }
   ],
   "source": [
    "model.fit(\n",
    "    x=training,\n",
    "    batch_size=32,\n",
    "    epochs=10,\n",
    "    validation_data=validation,\n",
    "    callbacks=[checkpoint_callback],  # Include your callback here\n",
    "    verbose=1\n",
    ")"
   ]
  }
 ],
 "metadata": {
  "kaggle": {
   "accelerator": "gpu",
   "dataSources": [
    {
     "databundleVersionId": 1502524,
     "sourceId": 22307,
     "sourceType": "competition"
    },
    {
     "datasetId": 3173056,
     "sourceId": 5499303,
     "sourceType": "datasetVersion"
    },
    {
     "datasetId": 3331043,
     "sourceId": 5799741,
     "sourceType": "datasetVersion"
    },
    {
     "datasetId": 3425056,
     "sourceId": 5974195,
     "sourceType": "datasetVersion"
    }
   ],
   "dockerImageVersionId": 30009,
   "isGpuEnabled": true,
   "isInternetEnabled": true,
   "language": "python",
   "sourceType": "notebook"
  },
  "kernelspec": {
   "display_name": "Python 3 (ipykernel)",
   "language": "python",
   "name": "python3"
  },
  "language_info": {
   "codemirror_mode": {
    "name": "ipython",
    "version": 3
   },
   "file_extension": ".py",
   "mimetype": "text/x-python",
   "name": "python",
   "nbconvert_exporter": "python",
   "pygments_lexer": "ipython3",
   "version": "3.11.6"
  }
 },
 "nbformat": 4,
 "nbformat_minor": 4
}
